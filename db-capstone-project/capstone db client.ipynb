{
 "cells": [
  {
   "cell_type": "code",
   "execution_count": null,
   "metadata": {},
   "outputs": [],
   "source": [
    "%pip install mysql-connector-python\n",
    "import mysql.connector as connector\n",
    "\n",
    "# Establishing the connection\n",
    "connection = connector.connect(user=\"capstone_prjct\", password=\"null321\", database=\"LittleLemon_DB\")\n",
    "\n",
    "# Creating a cursor object\n",
    "cursor = connection.cursor()\n",
    "\n",
    "# Executing the SQL query\n",
    "show_tables_query = \"SHOW tables\"\n",
    "cursor.execute(show_tables_query)\n",
    "\n",
    "# Fetch the results\n",
    "results = cursor.fetchall()\n",
    "\n",
    "\n",
    "print(results)\n",
    "\n",
    "# Closing cursor and connection\n",
    "cursor.close()\n",
    "connection.close()"
   ]
  },
  {
   "cell_type": "code",
   "execution_count": null,
   "metadata": {},
   "outputs": [],
   "source": [
    "import mysql.connector as connector\n",
    "\n",
    "# Establishing the connection\n",
    "connection = connector.connect(user=\"capstone_prjct\", password=\"null321\", database=\"LittleLemon_DB\")\n",
    "\n",
    "# Creating a cursor object\n",
    "cursor = connection.cursor()\n",
    "\n",
    "# SQL Query with joins\n",
    "query = \"\"\"\n",
    "SELECT c.Name, c.Email, o.TotalCost\n",
    "FROM Orders AS o\n",
    "JOIN CustomerDetails AS c ON o.CustomerID = c.CustomerID\n",
    "WHERE o.TotalCost > 60;\n",
    "\"\"\"\n",
    "\n",
    "# Executeing the query\n",
    "cursor.execute(query)\n",
    "\n",
    "# Fetching the results\n",
    "results = cursor.fetchall()\n",
    "\n",
    "\n",
    "for result in results:\n",
    "    print(\"Name:\", result[0], \"Contact Details:\", result[1], \"Total Cost:\", result[2])\n",
    "\n",
    "# Closing  cursor and connection\n",
    "cursor.close()\n",
    "connection.close()"
   ]
  }
 ],
 "metadata": {
  "kernelspec": {
   "display_name": "Python 3",
   "language": "python",
   "name": "python3"
  },
  "language_info": {
   "name": "python",
   "version": "3.12.5"
  }
 },
 "nbformat": 4,
 "nbformat_minor": 2
}
